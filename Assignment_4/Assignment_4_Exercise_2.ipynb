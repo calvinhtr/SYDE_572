{
 "cells": [
  {
   "cell_type": "code",
   "execution_count": 1,
   "metadata": {},
   "outputs": [
    {
     "name": "stdout",
     "output_type": "stream",
     "text": [
      "Collecting torch\n",
      "  Obtaining dependency information for torch from https://files.pythonhosted.org/packages/74/07/edce54779f5c3fe8ab8390eafad3d7c8190fce68f922a254ea77f4a94a99/torch-2.1.0-cp311-cp311-win_amd64.whl.metadata\n",
      "  Downloading torch-2.1.0-cp311-cp311-win_amd64.whl.metadata (25 kB)\n",
      "Collecting torchvision\n",
      "  Obtaining dependency information for torchvision from https://files.pythonhosted.org/packages/20/ac/ab6f42af83349e679b03c9bb18354740c6b58b17dba329fb408730230584/torchvision-0.16.0-cp311-cp311-win_amd64.whl.metadata\n",
      "  Downloading torchvision-0.16.0-cp311-cp311-win_amd64.whl.metadata (6.6 kB)\n",
      "Collecting torchaudio\n",
      "  Obtaining dependency information for torchaudio from https://files.pythonhosted.org/packages/11/30/715101782513f94c834ebe3afb9a29b0fae1121f64963db9d39fb80da53e/torchaudio-2.1.0-cp311-cp311-win_amd64.whl.metadata\n",
      "  Downloading torchaudio-2.1.0-cp311-cp311-win_amd64.whl.metadata (5.7 kB)\n",
      "Collecting filelock (from torch)\n",
      "  Obtaining dependency information for filelock from https://files.pythonhosted.org/packages/81/54/84d42a0bee35edba99dee7b59a8d4970eccdd44b99fe728ed912106fc781/filelock-3.13.1-py3-none-any.whl.metadata\n",
      "  Downloading filelock-3.13.1-py3-none-any.whl.metadata (2.8 kB)\n",
      "Requirement already satisfied: typing-extensions in c:\\users\\calvin tran\\documents\\conda\\lib\\site-packages (from torch) (4.7.1)\n",
      "Collecting sympy (from torch)\n",
      "  Downloading sympy-1.12-py3-none-any.whl (5.7 MB)\n",
      "     ---------------------------------------- 0.0/5.7 MB ? eta -:--:--\n",
      "     ---------------------------------------- 0.1/5.7 MB 3.8 MB/s eta 0:00:02\n",
      "     -- ------------------------------------- 0.4/5.7 MB 5.4 MB/s eta 0:00:01\n",
      "     ------- -------------------------------- 1.0/5.7 MB 9.3 MB/s eta 0:00:01\n",
      "     ----------- ---------------------------- 1.7/5.7 MB 9.7 MB/s eta 0:00:01\n",
      "     ---------------- ----------------------- 2.4/5.7 MB 10.8 MB/s eta 0:00:01\n",
      "     ---------------------- ----------------- 3.2/5.7 MB 11.9 MB/s eta 0:00:01\n",
      "     ---------------------------- ----------- 4.1/5.7 MB 13.2 MB/s eta 0:00:01\n",
      "     --------------------------------- ------ 4.8/5.7 MB 13.2 MB/s eta 0:00:01\n",
      "     ---------------------------------------  5.7/5.7 MB 13.9 MB/s eta 0:00:01\n",
      "     ---------------------------------------- 5.7/5.7 MB 13.1 MB/s eta 0:00:00\n",
      "Collecting networkx (from torch)\n",
      "  Obtaining dependency information for networkx from https://files.pythonhosted.org/packages/d5/f0/8fbc882ca80cf077f1b246c0e3c3465f7f415439bdea6b899f6b19f61f70/networkx-3.2.1-py3-none-any.whl.metadata\n",
      "  Downloading networkx-3.2.1-py3-none-any.whl.metadata (5.2 kB)\n",
      "Requirement already satisfied: jinja2 in c:\\users\\calvin tran\\documents\\conda\\lib\\site-packages (from torch) (3.1.2)\n",
      "Collecting fsspec (from torch)\n",
      "  Obtaining dependency information for fsspec from https://files.pythonhosted.org/packages/e8/f6/3eccfb530aac90ad1301c582da228e4763f19e719ac8200752a4841b0b2d/fsspec-2023.10.0-py3-none-any.whl.metadata\n",
      "  Downloading fsspec-2023.10.0-py3-none-any.whl.metadata (6.8 kB)\n",
      "Requirement already satisfied: numpy in c:\\users\\calvin tran\\documents\\conda\\lib\\site-packages (from torchvision) (1.26.1)\n",
      "Requirement already satisfied: requests in c:\\users\\calvin tran\\documents\\conda\\lib\\site-packages (from torchvision) (2.31.0)\n",
      "Requirement already satisfied: pillow!=8.3.*,>=5.3.0 in c:\\users\\calvin tran\\documents\\conda\\lib\\site-packages (from torchvision) (10.1.0)\n",
      "Requirement already satisfied: MarkupSafe>=2.0 in c:\\users\\calvin tran\\documents\\conda\\lib\\site-packages (from jinja2->torch) (2.1.1)\n",
      "Requirement already satisfied: charset-normalizer<4,>=2 in c:\\users\\calvin tran\\documents\\conda\\lib\\site-packages (from requests->torchvision) (2.0.4)\n",
      "Requirement already satisfied: idna<4,>=2.5 in c:\\users\\calvin tran\\documents\\conda\\lib\\site-packages (from requests->torchvision) (3.4)\n",
      "Requirement already satisfied: urllib3<3,>=1.21.1 in c:\\users\\calvin tran\\documents\\conda\\lib\\site-packages (from requests->torchvision) (1.26.16)\n",
      "Requirement already satisfied: certifi>=2017.4.17 in c:\\users\\calvin tran\\documents\\conda\\lib\\site-packages (from requests->torchvision) (2023.7.22)\n",
      "Collecting mpmath>=0.19 (from sympy->torch)\n",
      "  Downloading mpmath-1.3.0-py3-none-any.whl (536 kB)\n",
      "     ---------------------------------------- 0.0/536.2 kB ? eta -:--:--\n",
      "     ------------------------------------- 536.2/536.2 kB 17.0 MB/s eta 0:00:00\n",
      "Downloading torch-2.1.0-cp311-cp311-win_amd64.whl (192.3 MB)\n",
      "   ---------------------------------------- 0.0/192.3 MB ? eta -:--:--\n",
      "   ---------------------------------------- 1.6/192.3 MB 33.3 MB/s eta 0:00:06\n",
      "    --------------------------------------- 2.7/192.3 MB 28.1 MB/s eta 0:00:07\n",
      "    --------------------------------------- 3.9/192.3 MB 27.7 MB/s eta 0:00:07\n",
      "   - -------------------------------------- 5.0/192.3 MB 26.7 MB/s eta 0:00:08\n",
      "   - -------------------------------------- 5.5/192.3 MB 23.5 MB/s eta 0:00:08\n",
      "   - -------------------------------------- 6.9/192.3 MB 24.4 MB/s eta 0:00:08\n",
      "   - -------------------------------------- 8.2/192.3 MB 24.8 MB/s eta 0:00:08\n",
      "   -- ------------------------------------- 9.6/192.3 MB 25.7 MB/s eta 0:00:08\n",
      "   -- ------------------------------------- 10.7/192.3 MB 25.2 MB/s eta 0:00:08\n",
      "   -- ------------------------------------- 11.2/192.3 MB 23.4 MB/s eta 0:00:08\n",
      "   -- ------------------------------------- 12.8/192.3 MB 23.4 MB/s eta 0:00:08\n",
      "   -- ------------------------------------- 14.3/192.3 MB 24.2 MB/s eta 0:00:08\n",
      "   --- ------------------------------------ 16.0/192.3 MB 28.4 MB/s eta 0:00:07\n",
      "   --- ------------------------------------ 17.3/192.3 MB 28.4 MB/s eta 0:00:07\n",
      "   --- ------------------------------------ 19.0/192.3 MB 29.8 MB/s eta 0:00:06\n",
      "   ---- ----------------------------------- 20.3/192.3 MB 29.8 MB/s eta 0:00:06\n",
      "   ---- ----------------------------------- 22.0/192.3 MB 32.8 MB/s eta 0:00:06\n",
      "   ---- ----------------------------------- 23.2/192.3 MB 32.8 MB/s eta 0:00:06\n",
      "   ----- ---------------------------------- 24.6/192.3 MB 31.2 MB/s eta 0:00:06\n",
      "   ----- ---------------------------------- 25.6/192.3 MB 29.7 MB/s eta 0:00:06\n",
      "   ----- ---------------------------------- 26.7/192.3 MB 28.4 MB/s eta 0:00:06\n",
      "   ----- ---------------------------------- 28.2/192.3 MB 29.7 MB/s eta 0:00:06\n",
      "   ------ --------------------------------- 29.5/192.3 MB 29.8 MB/s eta 0:00:06\n",
      "   ------ --------------------------------- 31.1/192.3 MB 28.5 MB/s eta 0:00:06\n",
      "   ------ --------------------------------- 32.8/192.3 MB 28.5 MB/s eta 0:00:06\n",
      "   ------- -------------------------------- 33.9/192.3 MB 28.5 MB/s eta 0:00:06\n",
      "   ------- -------------------------------- 35.6/192.3 MB 31.2 MB/s eta 0:00:06\n",
      "   ------- -------------------------------- 36.8/192.3 MB 31.2 MB/s eta 0:00:05\n",
      "   -------- ------------------------------- 38.5/192.3 MB 31.2 MB/s eta 0:00:05\n",
      "   -------- ------------------------------- 40.1/192.3 MB 32.7 MB/s eta 0:00:05\n",
      "   -------- ------------------------------- 41.5/192.3 MB 32.8 MB/s eta 0:00:05\n",
      "   -------- ------------------------------- 43.1/192.3 MB 31.2 MB/s eta 0:00:05\n",
      "   --------- ------------------------------ 44.8/192.3 MB 32.8 MB/s eta 0:00:05\n",
      "   --------- ------------------------------ 46.5/192.3 MB 32.8 MB/s eta 0:00:05\n",
      "   ---------- ----------------------------- 48.2/192.3 MB 34.4 MB/s eta 0:00:05\n",
      "   ---------- ----------------------------- 49.8/192.3 MB 34.4 MB/s eta 0:00:05\n",
      "   ---------- ----------------------------- 51.6/192.3 MB 34.4 MB/s eta 0:00:05\n",
      "   ----------- ---------------------------- 53.5/192.3 MB 36.3 MB/s eta 0:00:04\n",
      "   ----------- ---------------------------- 55.0/192.3 MB 36.4 MB/s eta 0:00:04\n",
      "   ----------- ---------------------------- 56.9/192.3 MB 36.4 MB/s eta 0:00:04\n",
      "   ------------ --------------------------- 58.5/192.3 MB 36.4 MB/s eta 0:00:04\n",
      "   ------------ --------------------------- 60.4/192.3 MB 36.4 MB/s eta 0:00:04\n",
      "   ------------ --------------------------- 62.1/192.3 MB 36.4 MB/s eta 0:00:04\n",
      "   ------------- -------------------------- 63.8/192.3 MB 38.5 MB/s eta 0:00:04\n",
      "   ------------- -------------------------- 65.6/192.3 MB 38.5 MB/s eta 0:00:04\n",
      "   ------------- -------------------------- 67.2/192.3 MB 38.5 MB/s eta 0:00:04\n",
      "   -------------- ------------------------- 68.5/192.3 MB 38.5 MB/s eta 0:00:04\n",
      "   -------------- ------------------------- 70.1/192.3 MB 36.4 MB/s eta 0:00:04\n",
      "   -------------- ------------------------- 71.9/192.3 MB 34.4 MB/s eta 0:00:04\n",
      "   --------------- ------------------------ 73.6/192.3 MB 36.4 MB/s eta 0:00:04\n",
      "   --------------- ------------------------ 75.3/192.3 MB 34.4 MB/s eta 0:00:04\n",
      "   --------------- ------------------------ 76.8/192.3 MB 34.4 MB/s eta 0:00:04\n",
      "   ---------------- ----------------------- 78.7/192.3 MB 36.3 MB/s eta 0:00:04\n",
      "   ---------------- ----------------------- 80.0/192.3 MB 36.3 MB/s eta 0:00:04\n",
      "   ---------------- ----------------------- 81.5/192.3 MB 34.6 MB/s eta 0:00:04\n",
      "   ----------------- ---------------------- 83.2/192.3 MB 34.4 MB/s eta 0:00:04\n",
      "   ----------------- ---------------------- 84.9/192.3 MB 34.4 MB/s eta 0:00:04\n",
      "   ------------------ --------------------- 86.6/192.3 MB 34.4 MB/s eta 0:00:04\n",
      "   ------------------ --------------------- 88.3/192.3 MB 34.4 MB/s eta 0:00:04\n",
      "   ------------------ --------------------- 90.0/192.3 MB 34.4 MB/s eta 0:00:03\n",
      "   ------------------- -------------------- 91.6/192.3 MB 36.3 MB/s eta 0:00:03\n",
      "   ------------------- -------------------- 93.5/192.3 MB 36.3 MB/s eta 0:00:03\n",
      "   ------------------- -------------------- 95.2/192.3 MB 36.4 MB/s eta 0:00:03\n",
      "   -------------------- ------------------- 96.9/192.3 MB 36.4 MB/s eta 0:00:03\n",
      "   -------------------- ------------------- 98.5/192.3 MB 36.4 MB/s eta 0:00:03\n",
      "   -------------------- ------------------ 100.3/192.3 MB 36.4 MB/s eta 0:00:03\n",
      "   -------------------- ------------------ 102.0/192.3 MB 36.4 MB/s eta 0:00:03\n",
      "   --------------------- ----------------- 103.8/192.3 MB 36.4 MB/s eta 0:00:03\n",
      "   --------------------- ----------------- 105.5/192.3 MB 38.5 MB/s eta 0:00:03\n",
      "   --------------------- ----------------- 107.3/192.3 MB 36.3 MB/s eta 0:00:03\n",
      "   ---------------------- ---------------- 109.0/192.3 MB 38.6 MB/s eta 0:00:03\n",
      "   ---------------------- ---------------- 110.8/192.3 MB 36.4 MB/s eta 0:00:03\n",
      "   ---------------------- ---------------- 112.5/192.3 MB 36.4 MB/s eta 0:00:03\n",
      "   ----------------------- --------------- 114.2/192.3 MB 36.4 MB/s eta 0:00:03\n",
      "   ----------------------- --------------- 115.9/192.3 MB 36.4 MB/s eta 0:00:03\n",
      "   ----------------------- --------------- 117.6/192.3 MB 36.4 MB/s eta 0:00:03\n",
      "   ------------------------ -------------- 119.4/192.3 MB 36.3 MB/s eta 0:00:03\n",
      "   ------------------------ -------------- 121.0/192.3 MB 36.3 MB/s eta 0:00:02\n",
      "   ------------------------ -------------- 122.8/192.3 MB 36.4 MB/s eta 0:00:02\n",
      "   ------------------------- ------------- 124.5/192.3 MB 36.4 MB/s eta 0:00:02\n",
      "   ------------------------- ------------- 126.3/192.3 MB 36.4 MB/s eta 0:00:02\n",
      "   ------------------------- ------------- 128.0/192.3 MB 36.4 MB/s eta 0:00:02\n",
      "   -------------------------- ------------ 129.7/192.3 MB 36.4 MB/s eta 0:00:02\n",
      "   -------------------------- ------------ 131.5/192.3 MB 38.5 MB/s eta 0:00:02\n",
      "   --------------------------- ----------- 133.2/192.3 MB 36.3 MB/s eta 0:00:02\n",
      "   --------------------------- ----------- 134.9/192.3 MB 36.3 MB/s eta 0:00:02\n",
      "   --------------------------- ----------- 136.7/192.3 MB 36.4 MB/s eta 0:00:02\n",
      "   ---------------------------- ---------- 138.5/192.3 MB 38.6 MB/s eta 0:00:02\n",
      "   ---------------------------- ---------- 140.2/192.3 MB 36.4 MB/s eta 0:00:02\n",
      "   ---------------------------- ---------- 141.9/192.3 MB 36.4 MB/s eta 0:00:02\n",
      "   ----------------------------- --------- 143.6/192.3 MB 36.4 MB/s eta 0:00:02\n",
      "   ----------------------------- --------- 145.3/192.3 MB 38.5 MB/s eta 0:00:02\n",
      "   ----------------------------- --------- 147.0/192.3 MB 36.3 MB/s eta 0:00:02\n",
      "   ------------------------------ -------- 148.7/192.3 MB 36.3 MB/s eta 0:00:02\n",
      "   ------------------------------ -------- 150.4/192.3 MB 36.4 MB/s eta 0:00:02\n",
      "   ------------------------------ -------- 152.2/192.3 MB 36.4 MB/s eta 0:00:02\n",
      "   ------------------------------- ------- 153.9/192.3 MB 36.4 MB/s eta 0:00:02\n",
      "   ------------------------------- ------- 155.6/192.3 MB 38.5 MB/s eta 0:00:01\n",
      "   ------------------------------- ------- 157.4/192.3 MB 38.5 MB/s eta 0:00:01\n",
      "   -------------------------------- ------ 159.0/192.3 MB 38.5 MB/s eta 0:00:01\n",
      "   -------------------------------- ------ 160.8/192.3 MB 38.5 MB/s eta 0:00:01\n",
      "   -------------------------------- ------ 162.5/192.3 MB 38.5 MB/s eta 0:00:01\n",
      "   --------------------------------- ----- 164.2/192.3 MB 38.6 MB/s eta 0:00:01\n",
      "   --------------------------------- ----- 166.0/192.3 MB 38.6 MB/s eta 0:00:01\n",
      "   ---------------------------------- ---- 167.7/192.3 MB 38.6 MB/s eta 0:00:01\n",
      "   ---------------------------------- ---- 169.4/192.3 MB 38.5 MB/s eta 0:00:01\n",
      "   ---------------------------------- ---- 171.1/192.3 MB 38.5 MB/s eta 0:00:01\n",
      "   ----------------------------------- --- 172.8/192.3 MB 38.5 MB/s eta 0:00:01\n",
      "   ----------------------------------- --- 174.5/192.3 MB 38.5 MB/s eta 0:00:01\n",
      "   ----------------------------------- --- 176.3/192.3 MB 38.5 MB/s eta 0:00:01\n",
      "   ------------------------------------ -- 178.0/192.3 MB 38.6 MB/s eta 0:00:01\n",
      "   ------------------------------------ -- 179.4/192.3 MB 36.4 MB/s eta 0:00:01\n",
      "   ------------------------------------ -- 179.4/192.3 MB 36.4 MB/s eta 0:00:01\n",
      "   ------------------------------------ -- 179.4/192.3 MB 36.4 MB/s eta 0:00:01\n",
      "   ------------------------------------ -- 179.4/192.3 MB 36.4 MB/s eta 0:00:01\n",
      "   ------------------------------------ -- 179.4/192.3 MB 36.4 MB/s eta 0:00:01\n",
      "   ------------------------------------- - 183.6/192.3 MB 25.1 MB/s eta 0:00:01\n",
      "   --------------------------------------  187.9/192.3 MB 31.1 MB/s eta 0:00:01\n",
      "   --------------------------------------  189.7/192.3 MB 81.8 MB/s eta 0:00:01\n",
      "   --------------------------------------  191.5/192.3 MB 59.5 MB/s eta 0:00:01\n",
      "   --------------------------------------  192.3/192.3 MB 54.4 MB/s eta 0:00:01\n",
      "   --------------------------------------  192.3/192.3 MB 54.4 MB/s eta 0:00:01\n",
      "   --------------------------------------  192.3/192.3 MB 54.4 MB/s eta 0:00:01\n",
      "   --------------------------------------  192.3/192.3 MB 54.4 MB/s eta 0:00:01\n",
      "   --------------------------------------  192.3/192.3 MB 54.4 MB/s eta 0:00:01\n",
      "   --------------------------------------  192.3/192.3 MB 54.4 MB/s eta 0:00:01\n",
      "   --------------------------------------- 192.3/192.3 MB 16.8 MB/s eta 0:00:00\n",
      "Downloading torchvision-0.16.0-cp311-cp311-win_amd64.whl (1.3 MB)\n",
      "   ---------------------------------------- 0.0/1.3 MB ? eta -:--:--\n",
      "   ---------------------------------------- 1.3/1.3 MB 40.4 MB/s eta 0:00:00\n",
      "Downloading torchaudio-2.1.0-cp311-cp311-win_amd64.whl (2.3 MB)\n",
      "   ---------------------------------------- 0.0/2.3 MB ? eta -:--:--\n",
      "   ----------------------------- ---------- 1.7/2.3 MB 54.5 MB/s eta 0:00:01\n",
      "   ---------------------------------------- 2.3/2.3 MB 36.7 MB/s eta 0:00:00\n",
      "Downloading filelock-3.13.1-py3-none-any.whl (11 kB)\n",
      "Downloading fsspec-2023.10.0-py3-none-any.whl (166 kB)\n",
      "   ---------------------------------------- 0.0/166.4 kB ? eta -:--:--\n",
      "   --------------------------------------- 166.4/166.4 kB 10.4 MB/s eta 0:00:00\n",
      "Downloading networkx-3.2.1-py3-none-any.whl (1.6 MB)\n",
      "   ---------------------------------------- 0.0/1.6 MB ? eta -:--:--\n",
      "   ---------------------------------------  1.6/1.6 MB 50.9 MB/s eta 0:00:01\n",
      "   ---------------------------------------- 1.6/1.6 MB 34.8 MB/s eta 0:00:00\n",
      "Installing collected packages: mpmath, sympy, networkx, fsspec, filelock, torch, torchvision, torchaudio\n",
      "Successfully installed filelock-3.13.1 fsspec-2023.10.0 mpmath-1.3.0 networkx-3.2.1 sympy-1.12 torch-2.1.0 torchaudio-2.1.0 torchvision-0.16.0\n"
     ]
    }
   ],
   "source": [
    "!pip3 install torch torchvision torchaudio"
   ]
  },
  {
   "cell_type": "code",
   "execution_count": 1,
   "metadata": {},
   "outputs": [
    {
     "name": "stdout",
     "output_type": "stream",
     "text": [
      "tensor([[0.0357, 0.0564, 0.9461],\n",
      "        [0.2992, 0.1504, 0.3890],\n",
      "        [0.6392, 0.4405, 0.0173],\n",
      "        [0.3294, 0.4951, 0.9914],\n",
      "        [0.4563, 0.5380, 0.6042]])\n"
     ]
    }
   ],
   "source": [
    "import torch\n",
    "x = torch.rand(5, 3)\n",
    "print(x)"
   ]
  },
  {
   "cell_type": "code",
   "execution_count": 4,
   "metadata": {},
   "outputs": [
    {
     "name": "stdout",
     "output_type": "stream",
     "text": [
      "Net(\n",
      "  (conv1): Conv2d(1, 6, kernel_size=(5, 5), stride=(1, 1))\n",
      "  (conv2): Conv2d(6, 16, kernel_size=(5, 5), stride=(1, 1))\n",
      "  (fc1): Linear(in_features=400, out_features=120, bias=True)\n",
      "  (fc2): Linear(in_features=120, out_features=84, bias=True)\n",
      "  (fc3): Linear(in_features=84, out_features=10, bias=True)\n",
      ")\n",
      "10\n",
      "torch.Size([6, 1, 5, 5])\n"
     ]
    }
   ],
   "source": [
    "import torch\n",
    "import torch.nn as nn\n",
    "import torch.nn.functional as F\n",
    "\n",
    "\n",
    "class Net(nn.Module):\n",
    "\n",
    "    def __init__(self):\n",
    "        super(Net, self).__init__()\n",
    "        # 1 input image channel, 6 output channels, 5x5 square convolution\n",
    "        # kernel\n",
    "        self.conv1 = nn.Conv2d(1, 6, 5)\n",
    "        self.conv2 = nn.Conv2d(6, 16, 5)\n",
    "        # an affine operation: y = Wx + b\n",
    "        self.fc1 = nn.Linear(16 * 5 * 5, 120)  # 5*5 from image dimension\n",
    "        self.fc2 = nn.Linear(120, 84)\n",
    "        self.fc3 = nn.Linear(84, 10)\n",
    "\n",
    "    def forward(self, x):\n",
    "        # Max pooling over a (2, 2) window\n",
    "        x = F.max_pool2d(F.relu(self.conv1(x)), (2, 2))\n",
    "        # If the size is a square, you can specify with a single number\n",
    "        x = F.max_pool2d(F.relu(self.conv2(x)), 2)\n",
    "        x = torch.flatten(x, 1) # flatten all dimensions except the batch dimension\n",
    "        x = F.relu(self.fc1(x))\n",
    "        x = F.relu(self.fc2(x))\n",
    "        x = self.fc3(x)\n",
    "        return x\n",
    "\n",
    "\n",
    "params = list(net.parameters())\n",
    "net = Net()\n",
    "print(net)\n",
    "print(len(params))\n",
    "print(params[0].size())  # conv1's .weight"
   ]
  },
  {
   "cell_type": "code",
   "execution_count": 7,
   "metadata": {},
   "outputs": [
    {
     "name": "stdout",
     "output_type": "stream",
     "text": [
      "tensor([[-0.0405,  0.0162,  0.1260, -0.0774,  0.0170, -0.0203,  0.0127,  0.0816,\n",
      "         -0.1384, -0.0843]], grad_fn=<AddmmBackward0>)\n"
     ]
    }
   ],
   "source": [
    "# 32x32 input\n",
    "input = torch.randn(1, 1, 32, 32)\n",
    "out = net(input)\n",
    "print(out)"
   ]
  },
  {
   "cell_type": "code",
   "execution_count": 8,
   "metadata": {},
   "outputs": [],
   "source": [
    "net.zero_grad()\n",
    "out.backward(torch.randn(1, 10))"
   ]
  },
  {
   "cell_type": "code",
   "execution_count": 10,
   "metadata": {},
   "outputs": [
    {
     "name": "stdout",
     "output_type": "stream",
     "text": [
      "Downloading http://yann.lecun.com/exdb/mnist/train-images-idx3-ubyte.gz\n",
      "Downloading http://yann.lecun.com/exdb/mnist/train-images-idx3-ubyte.gz to ./data\\MNIST\\raw\\train-images-idx3-ubyte.gz\n"
     ]
    },
    {
     "name": "stderr",
     "output_type": "stream",
     "text": [
      "100%|██████████| 9912422/9912422 [00:00<00:00, 26862952.66it/s]\n"
     ]
    },
    {
     "name": "stdout",
     "output_type": "stream",
     "text": [
      "Extracting ./data\\MNIST\\raw\\train-images-idx3-ubyte.gz to ./data\\MNIST\\raw\n",
      "\n",
      "Downloading http://yann.lecun.com/exdb/mnist/train-labels-idx1-ubyte.gz\n",
      "Downloading http://yann.lecun.com/exdb/mnist/train-labels-idx1-ubyte.gz to ./data\\MNIST\\raw\\train-labels-idx1-ubyte.gz\n"
     ]
    },
    {
     "name": "stderr",
     "output_type": "stream",
     "text": [
      "100%|██████████| 28881/28881 [00:00<?, ?it/s]\n"
     ]
    },
    {
     "name": "stdout",
     "output_type": "stream",
     "text": [
      "Extracting ./data\\MNIST\\raw\\train-labels-idx1-ubyte.gz to ./data\\MNIST\\raw\n",
      "\n",
      "Downloading http://yann.lecun.com/exdb/mnist/t10k-images-idx3-ubyte.gz\n",
      "Downloading http://yann.lecun.com/exdb/mnist/t10k-images-idx3-ubyte.gz to ./data\\MNIST\\raw\\t10k-images-idx3-ubyte.gz\n"
     ]
    },
    {
     "name": "stderr",
     "output_type": "stream",
     "text": [
      "100%|██████████| 1648877/1648877 [00:00<00:00, 14214727.55it/s]\n"
     ]
    },
    {
     "name": "stdout",
     "output_type": "stream",
     "text": [
      "Extracting ./data\\MNIST\\raw\\t10k-images-idx3-ubyte.gz to ./data\\MNIST\\raw\n",
      "\n",
      "Downloading http://yann.lecun.com/exdb/mnist/t10k-labels-idx1-ubyte.gz\n",
      "Downloading http://yann.lecun.com/exdb/mnist/t10k-labels-idx1-ubyte.gz to ./data\\MNIST\\raw\\t10k-labels-idx1-ubyte.gz\n"
     ]
    },
    {
     "name": "stderr",
     "output_type": "stream",
     "text": [
      "100%|██████████| 4542/4542 [00:00<00:00, 4541246.43it/s]"
     ]
    },
    {
     "name": "stdout",
     "output_type": "stream",
     "text": [
      "Extracting ./data\\MNIST\\raw\\t10k-labels-idx1-ubyte.gz to ./data\\MNIST\\raw\n",
      "\n"
     ]
    },
    {
     "name": "stderr",
     "output_type": "stream",
     "text": [
      "\n"
     ]
    }
   ],
   "source": [
    "from torchvision import datasets, transforms\n",
    "transform = transforms.Compose([transforms.ToTensor(), transforms.Normalize((0.5,), (0.5,))])\n",
    "train_dataset = datasets.MNIST(root='./data', train=True, download=True, transform=transform)\n",
    "test_dataset = datasets.MNIST(root='./data', train=False, download=True, transform=transform)"
   ]
  },
  {
   "cell_type": "code",
   "execution_count": null,
   "metadata": {},
   "outputs": [],
   "source": []
  }
 ],
 "metadata": {
  "interpreter": {
   "hash": "e692bc4f9c84dc1a8f93ad31fda34b6e642d0f9652ad43e67226f43d67af591a"
  },
  "kernelspec": {
   "display_name": "Python 3.11.5 64-bit ('base': conda)",
   "name": "python3"
  },
  "language_info": {
   "codemirror_mode": {
    "name": "ipython",
    "version": 3
   },
   "file_extension": ".py",
   "mimetype": "text/x-python",
   "name": "python",
   "nbconvert_exporter": "python",
   "pygments_lexer": "ipython3",
   "version": "3.11.5"
  },
  "orig_nbformat": 4
 },
 "nbformat": 4,
 "nbformat_minor": 2
}
